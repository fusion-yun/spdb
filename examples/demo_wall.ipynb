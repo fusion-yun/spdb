{
 "metadata": {
  "language_info": {
   "codemirror_mode": {
    "name": "ipython",
    "version": 3
   },
   "file_extension": ".py",
   "mimetype": "text/x-python",
   "name": "python",
   "nbconvert_exporter": "python",
   "pygments_lexer": "ipython3",
   "version": "3.8.2-final"
  },
  "orig_nbformat": 2,
  "kernelspec": {
   "name": "Python 3.8.2 64-bit",
   "display_name": "Python 3.8.2 64-bit",
   "metadata": {
    "interpreter": {
     "hash": "31f2aee4e71d21fbe5cf8b01ff0e069b9275f58929596ceb00d14d90e3e16cd6"
    }
   }
  }
 },
 "nbformat": 4,
 "nbformat_minor": 2,
 "cells": [
  {
   "cell_type": "code",
   "execution_count": 1,
   "metadata": {},
   "outputs": [],
   "source": [
    "import sys\n",
    "sys.path.append(\"/home/salmon/workspace/SpDev/SpCommon\")\n",
    "sys.path.append(\"/home/salmon/workspace/SpDev/SpDB\")\n",
    "\n",
    "from spdm.util.logger import logger\n",
    "from spdm.data import Collection\n",
    "import matplotlib.pyplot as plt\n",
    "import numpy as np\n",
    " "
   ]
  },
  {
   "cell_type": "code",
   "execution_count": 2,
   "metadata": {},
   "outputs": [
    {
     "output_type": "stream",
     "name": "stdout",
     "text": [
      "2020-10-18 13:20:47,900 DEBUG [spdm] /home/salmon/workspace/SpDev/SpCommon/spdm/util/sp_export.py:73:sp_find_module: spdm.data.plugins.PluginMapping#MappingCollection\n",
      "2020-10-18 13:20:47,906 INFO [spdm] /home/salmon/workspace/SpDev/SpDB/spdm/data/Plugin.py:62:find_plugin: Load Plugin: MappingCollection\n",
      "2020-10-18 13:20:47,908 DEBUG [spdm] /home/salmon/workspace/SpDev/SpDB/spdm/data/Collection.py:49:__init__: Open MappingCollection : mapping://\n",
      "2020-10-18 13:20:47,920 DEBUG [spdm] /home/salmon/workspace/SpDev/SpCommon/spdm/util/sp_export.py:73:sp_find_module: spdm.data.plugins.PluginXML#XMLDocument\n",
      "2020-10-18 13:20:47,921 INFO [spdm] /home/salmon/workspace/SpDev/SpDB/spdm/data/Plugin.py:62:find_plugin: Load Plugin: XMLDocument\n",
      "2020-10-18 13:20:47,924 DEBUG [spdm] /home/salmon/workspace/SpDev/SpDB/spdm/data/plugins/PluginXML.py:62:load_xml: Loading XML file from /home/salmon/workspace/SpDev/SpDB/mapping/EAST/imas/3/static/config.xml\n",
      "2020-10-18 13:20:47,926 DEBUG [spdm] /home/salmon/workspace/SpDev/SpDB/spdm/data/plugins/PluginXML.py:62:load_xml: Loading XML file from /home/salmon/workspace/SpDev/SpDB/mapping/EAST/imas/3/static/magnetics.xml\n",
      "2020-10-18 13:20:47,928 DEBUG [spdm] /home/salmon/workspace/SpDev/SpDB/spdm/data/plugins/PluginXML.py:62:load_xml: Loading XML file from /home/salmon/workspace/SpDev/SpDB/mapping/EAST/imas/3/static/wall.xml\n",
      "2020-10-18 13:20:47,929 DEBUG [spdm] /home/salmon/workspace/SpDev/SpDB/spdm/data/plugins/PluginXML.py:62:load_xml: Loading XML file from /home/salmon/workspace/SpDev/SpDB/mapping/EAST/imas/3/static/pf_active.xml\n",
      "2020-10-18 13:20:47,931 DEBUG [spdm] /home/salmon/workspace/SpDev/SpDB/spdm/data/plugins/PluginXML.py:62:load_xml: Loading XML file from /home/salmon/workspace/SpDev/SpDB/mapping/EAST/imas/3/dynamic/config.xml\n",
      "2020-10-18 13:20:47,932 DEBUG [spdm] /home/salmon/workspace/SpDev/SpDB/spdm/data/plugins/PluginXML.py:62:load_xml: Loading XML file from /home/salmon/workspace/SpDev/SpDB/mapping/EAST/imas/3/dynamic/equilibrium.xml\n",
      "2020-10-18 13:20:47,934 DEBUG [spdm] /home/salmon/workspace/SpDev/SpDB/spdm/data/plugins/PluginXML.py:62:load_xml: Loading XML file from /home/salmon/workspace/SpDev/SpDB/mapping/EAST/imas/3/dynamic/magnetics.xml\n",
      "2020-10-18 13:20:47,937 DEBUG [spdm] /home/salmon/workspace/SpDev/SpDB/spdm/data/plugins/PluginXML.py:62:load_xml: Loading XML file from /home/salmon/workspace/SpDev/SpDB/mapping/EAST/imas/3/dynamic/pf_active.xml\n",
      "2020-10-18 13:20:47,938 DEBUG [spdm] /home/salmon/workspace/SpDev/SpDB/spdm/data/plugins/PluginXML.py:62:load_xml: Loading XML file from /home/salmon/workspace/SpDev/SpDB/mapping/EAST/imas/3/dynamic/tf.xml\n",
      "2020-10-18 13:20:47,968 DEBUG [spdm] /home/salmon/workspace/SpDev/SpCommon/spdm/util/sp_export.py:73:sp_find_module: spdm.data.plugins.PluginMDSplus#MDSplusCollection\n",
      "2020-10-18 13:20:47,969 INFO [spdm] /home/salmon/workspace/SpDev/SpDB/spdm/data/Plugin.py:62:find_plugin: Load Plugin: MDSplusCollection\n",
      "2020-10-18 13:20:47,971 DEBUG [spdm] /home/salmon/workspace/SpDev/SpDB/spdm/data/Collection.py:49:__init__: Open MDSplusCollection : /home/salmon/public_data/efit_east\n",
      "2020-10-18 13:20:47,972 DEBUG [spdm] /home/salmon/workspace/SpDev/SpDB/spdm/data/plugins/PluginMDSplus.py:41:__init__: Opend MDSTree: efit_east 55555 mode=\"NORMAL\"\n"
     ]
    }
   ],
   "source": [
    "db = Collection(\"mapping://\",\n",
    "                    source=\"mdsplus:///home/salmon/public_data/efit_east\",\n",
    "                    id_hasher=\"{shot}\",  #\n",
    "                    mapping=[\n",
    "                        \"/home/salmon/workspace/SpDev/SpDB/mapping/EAST/imas/3/static/config.xml\",\n",
    "                        \"/home/salmon/workspace/SpDev/SpDB/mapping/EAST/imas/3/dynamic/config.xml\"\n",
    "                    ])\n",
    "entry = db.open(shot=55555).entry\n",
    "\n"
   ]
  },
  {
   "cell_type": "code",
   "execution_count": 3,
   "metadata": {},
   "outputs": [
    {
     "output_type": "error",
     "ename": "SyntaxError",
     "evalue": "MDSplus TDI syntax error [DATA(\\PSIRZ)[*,*,{time_slice#id}]]! %TDI-E-SYNTAX, Bad punctuation or misspelled word or number (<string>)",
     "traceback": [
      "Traceback \u001b[0;36m(most recent call last)\u001b[0m:\n",
      "  File \u001b[1;32m\"/home/salmon/workspace/SpDev/SpDB/spdm/data/plugins/PluginMDSplus.py\"\u001b[0m, line \u001b[1;32m26\u001b[0m, in \u001b[1;35mget\u001b[0m\n    res = holder.data.tdiExecute(path)\n",
      "  File \u001b[1;32m\"/usr/local/mdsplus/python/MDSplus/tree.py\"\u001b[0m, line \u001b[1;32m1047\u001b[0m, in \u001b[1;35mtdiExecute\u001b[0m\n    return _dat.TdiExecute(*args,**kwargs)\n",
      "  File \u001b[1;32m\"/usr/local/mdsplus/python/MDSplus/mdsdata.py\"\u001b[0m, line \u001b[1;32m78\u001b[0m, in \u001b[1;35mTdiExecute\u001b[0m\n    return _cmp.EXECUTE(expression,*_unwrap(args))._setTree(**kwargs).evaluate()\n",
      "  File \u001b[1;32m\"/usr/local/mdsplus/python/MDSplus/compound.py\"\u001b[0m, line \u001b[1;32m346\u001b[0m, in \u001b[1;35mevaluate\u001b[0m\n    _exc.checkStatus(_TdiShr._TdiIntrinsic(tree.pctx,self.opcode,nargs,argslist,xd.ref))\n",
      "\u001b[0;36m  File \u001b[0;32m\"/usr/local/mdsplus/python/MDSplus/mdsExceptions.py\"\u001b[0;36m, line \u001b[0;32m94\u001b[0;36m, in \u001b[0;35mcheckStatus\u001b[0;36m\u001b[0m\n\u001b[0;31m    raise exception\u001b[0m\n",
      "\u001b[0;31mTdiSYNTAX\u001b[0m\u001b[0;31m:\u001b[0m %TDI-E-SYNTAX, Bad punctuation or misspelled word or number\n",
      "\nDuring handling of the above exception, another exception occurred:\n",
      "Traceback \u001b[0;36m(most recent call last)\u001b[0m:\n",
      "  File \u001b[1;32m\"/usr/lib/python3/dist-packages/IPython/core/interactiveshell.py\"\u001b[0m, line \u001b[1;32m3331\u001b[0m, in \u001b[1;35mrun_code\u001b[0m\n    exec(code_obj, self.user_global_ns, self.user_ns)\n",
      "  File \u001b[1;32m\"<ipython-input-3-f9bffda91f88>\"\u001b[0m, line \u001b[1;32m26\u001b[0m, in \u001b[1;35m<module>\u001b[0m\n    entry.equilibrium.time_slice[1].profiles_2d.psi.__value__(),\n",
      "  File \u001b[1;32m\"/home/salmon/workspace/SpDev/SpCommon/spdm/util/LazyProxy.py\"\u001b[0m, line \u001b[1;32m204\u001b[0m, in \u001b[1;35m__value__\u001b[0m\n    res = self.__real_value__()\n",
      "  File \u001b[1;32m\"/home/salmon/workspace/SpDev/SpCommon/spdm/util/LazyProxy.py\"\u001b[0m, line \u001b[1;32m201\u001b[0m, in \u001b[1;35m__real_value__\u001b[0m\n    return handler.get_value(obj, path)\n",
      "  File \u001b[1;32m\"/home/salmon/workspace/SpDev/SpCommon/spdm/util/LazyProxy.py\"\u001b[0m, line \u001b[1;32m99\u001b[0m, in \u001b[1;35mget_value\u001b[0m\n    return self.get(obj, path, *args, **kwargs)\n",
      "  File \u001b[1;32m\"/home/salmon/workspace/SpDev/SpDB/spdm/data/plugins/PluginMapping.py\"\u001b[0m, line \u001b[1;32m64\u001b[0m, in \u001b[1;35mget\u001b[0m\n    res = PathTraverser(path).apply(lambda p: self.get(holder, p,  is_raw_path=True, **kwargs))\n",
      "  File \u001b[1;32m\"/home/salmon/workspace/SpDev/SpCommon/spdm/util/PathTraverser.py\"\u001b[0m, line \u001b[1;32m52\u001b[0m, in \u001b[1;35mapply\u001b[0m\n    res = self.traverse(visitor, [], 0)\n",
      "  File \u001b[1;32m\"/home/salmon/workspace/SpDev/SpCommon/spdm/util/PathTraverser.py\"\u001b[0m, line \u001b[1;32m27\u001b[0m, in \u001b[1;35mtraverse\u001b[0m\n    res = self.traverse(visitor, prev+[self._path[idx]], idx+1)\n",
      "  File \u001b[1;32m\"/home/salmon/workspace/SpDev/SpCommon/spdm/util/PathTraverser.py\"\u001b[0m, line \u001b[1;32m27\u001b[0m, in \u001b[1;35mtraverse\u001b[0m\n    res = self.traverse(visitor, prev+[self._path[idx]], idx+1)\n",
      "  File \u001b[1;32m\"/home/salmon/workspace/SpDev/SpCommon/spdm/util/PathTraverser.py\"\u001b[0m, line \u001b[1;32m27\u001b[0m, in \u001b[1;35mtraverse\u001b[0m\n    res = self.traverse(visitor, prev+[self._path[idx]], idx+1)\n",
      "  File \u001b[1;32m\"/home/salmon/workspace/SpDev/SpCommon/spdm/util/PathTraverser.py\"\u001b[0m, line \u001b[1;32m27\u001b[0m, in \u001b[1;35mtraverse\u001b[0m\n    res = self.traverse(visitor, prev+[self._path[idx]], idx+1)\n",
      "  File \u001b[1;32m\"/home/salmon/workspace/SpDev/SpCommon/spdm/util/PathTraverser.py\"\u001b[0m, line \u001b[1;32m27\u001b[0m, in \u001b[1;35mtraverse\u001b[0m\n    res = self.traverse(visitor, prev+[self._path[idx]], idx+1)\n",
      "  File \u001b[1;32m\"/home/salmon/workspace/SpDev/SpCommon/spdm/util/PathTraverser.py\"\u001b[0m, line \u001b[1;32m25\u001b[0m, in \u001b[1;35mtraverse\u001b[0m\n    res = visitor(prev)\n",
      "  File \u001b[1;32m\"/home/salmon/workspace/SpDev/SpDB/spdm/data/plugins/PluginMapping.py\"\u001b[0m, line \u001b[1;32m64\u001b[0m, in \u001b[1;35m<lambda>\u001b[0m\n    res = PathTraverser(path).apply(lambda p: self.get(holder, p,  is_raw_path=True, **kwargs))\n",
      "  File \u001b[1;32m\"/home/salmon/workspace/SpDev/SpDB/spdm/data/plugins/PluginMapping.py\"\u001b[0m, line \u001b[1;32m67\u001b[0m, in \u001b[1;35mget\u001b[0m\n    res = self._fetch_from_xml(holder, item)\n",
      "  File \u001b[1;32m\"/home/salmon/workspace/SpDev/SpDB/spdm/data/plugins/PluginMapping.py\"\u001b[0m, line \u001b[1;32m58\u001b[0m, in \u001b[1;35m_fetch_from_xml\u001b[0m\n    return self._target.get(holder, item[\"{http://hpc.ipp.ac.cn/SpDB}mdsplus\"], *args, **kwargs)\n",
      "\u001b[0;36m  File \u001b[0;32m\"/home/salmon/workspace/SpDev/SpDB/spdm/data/plugins/PluginMDSplus.py\"\u001b[0;36m, line \u001b[0;32m28\u001b[0;36m, in \u001b[0;35mget\u001b[0;36m\u001b[0m\n\u001b[0;31m    raise SyntaxError(f\"MDSplus TDI syntax error [{path}]! {error}\")\u001b[0m\n",
      "\u001b[0;36m  File \u001b[0;32m\"<string>\"\u001b[0;36m, line \u001b[0;32munknown\u001b[0m\n\u001b[0;31mSyntaxError\u001b[0m\u001b[0;31m:\u001b[0m MDSplus TDI syntax error [DATA(\\PSIRZ)[*,*,{time_slice#id}]]! %TDI-E-SYNTAX, Bad punctuation or misspelled word or number\n"
     ]
    }
   ],
   "source": [
    "# doc = open_xml([\"/home/salmon/workspace/SpDev/SpDB/mapping/EAST/imas/3/static\"])\n",
    "# entry = doc.entry\n",
    "\n",
    "fg=plt.figure()\n",
    "\n",
    "\n",
    "for coil in entry.pf_active.coil:\n",
    "    rect=coil.element[0].geometry.rectangle.__value__()\n",
    "    plt.gca().add_patch(plt.Rectangle((rect.r-rect.width/2.0,rect.z-rect.height/2.0),rect.width,rect.height,fill=False))\n",
    "\n",
    "plt.gca().add_patch(plt.Polygon(np.array([entry.wall.description_2d.vessel.annular.outline_outer.r.__value__(),    \n",
    "                                          entry.wall.description_2d.vessel.annular.outline_outer.z.__value__()]).transpose([1,0]),\n",
    "                                fill=False,closed=True))\n",
    "\n",
    "plt.gca().add_patch(plt.Polygon(np.array([entry.wall.description_2d.vessel.annular.outline_inner.r.__value__(),    \n",
    "                                          entry.wall.description_2d.vessel.annular.outline_inner.z.__value__()]).transpose([1,0]),\n",
    "                                fill=False,closed=True))\n",
    "\n",
    "plt.gca().add_patch(plt.Polygon(np.array([entry.wall.description_2d[0].limiter.unit[0].outline.r.__value__(),\n",
    "                                          entry.wall.description_2d[0].limiter.unit[0].outline.z.__value__()]).transpose([1,0]),\n",
    "                                fill=False,closed=True))\n",
    "\n",
    "plt.contour(\n",
    "    entry.equilibrium.time_slice[1].profiles_2d.grid.dim1.__value__(),\n",
    "    entry.equilibrium.time_slice[1].profiles_2d.grid.dim2.__value__(),\n",
    "    entry.equilibrium.time_slice[1].profiles_2d.psi.__value__(),\n",
    "    levels =30,linewidths=0.4\n",
    "    )\n",
    "plt.axis('scaled')\n",
    "plt.show()"
   ]
  },
  {
   "cell_type": "code",
   "execution_count": 6,
   "metadata": {},
   "outputs": [
    {
     "output_type": "error",
     "ename": "ValueError",
     "evalue": "Unknown conversion specifier u",
     "traceback": [
      "\u001b[0;31m---------------------------------------------------------------------------\u001b[0m",
      "\u001b[0;31mValueError\u001b[0m                                Traceback (most recent call last)",
      "\u001b[0;32m<ipython-input-6-67f1c6ecac5a>\u001b[0m in \u001b[0;36m<module>\u001b[0;34m\u001b[0m\n\u001b[1;32m      1\u001b[0m \u001b[0;32mimport\u001b[0m \u001b[0mstring\u001b[0m\u001b[0;34m\u001b[0m\u001b[0;34m\u001b[0m\u001b[0m\n\u001b[0;32m----> 2\u001b[0;31m \u001b[0mstring\u001b[0m\u001b[0;34m.\u001b[0m\u001b[0mFormatter\u001b[0m\u001b[0;34m(\u001b[0m\u001b[0;34m)\u001b[0m\u001b[0;34m.\u001b[0m\u001b[0mformat\u001b[0m\u001b[0;34m(\u001b[0m\u001b[0;34m\"{name!u}\"\u001b[0m\u001b[0;34m,\u001b[0m\u001b[0mname\u001b[0m\u001b[0;34m=\u001b[0m\u001b[0;34m\"hello\"\u001b[0m\u001b[0;34m)\u001b[0m\u001b[0;34m\u001b[0m\u001b[0;34m\u001b[0m\u001b[0m\n\u001b[0m",
      "\u001b[0;32m/usr/lib/python3.8/string.py\u001b[0m in \u001b[0;36mformat\u001b[0;34m(self, format_string, *args, **kwargs)\u001b[0m\n\u001b[1;32m    161\u001b[0m \u001b[0;32mclass\u001b[0m \u001b[0mFormatter\u001b[0m\u001b[0;34m:\u001b[0m\u001b[0;34m\u001b[0m\u001b[0;34m\u001b[0m\u001b[0m\n\u001b[1;32m    162\u001b[0m     \u001b[0;32mdef\u001b[0m \u001b[0mformat\u001b[0m\u001b[0;34m(\u001b[0m\u001b[0mself\u001b[0m\u001b[0;34m,\u001b[0m \u001b[0mformat_string\u001b[0m\u001b[0;34m,\u001b[0m \u001b[0;34m/\u001b[0m\u001b[0;34m,\u001b[0m \u001b[0;34m*\u001b[0m\u001b[0margs\u001b[0m\u001b[0;34m,\u001b[0m \u001b[0;34m**\u001b[0m\u001b[0mkwargs\u001b[0m\u001b[0;34m)\u001b[0m\u001b[0;34m:\u001b[0m\u001b[0;34m\u001b[0m\u001b[0;34m\u001b[0m\u001b[0m\n\u001b[0;32m--> 163\u001b[0;31m         \u001b[0;32mreturn\u001b[0m \u001b[0mself\u001b[0m\u001b[0;34m.\u001b[0m\u001b[0mvformat\u001b[0m\u001b[0;34m(\u001b[0m\u001b[0mformat_string\u001b[0m\u001b[0;34m,\u001b[0m \u001b[0margs\u001b[0m\u001b[0;34m,\u001b[0m \u001b[0mkwargs\u001b[0m\u001b[0;34m)\u001b[0m\u001b[0;34m\u001b[0m\u001b[0;34m\u001b[0m\u001b[0m\n\u001b[0m\u001b[1;32m    164\u001b[0m \u001b[0;34m\u001b[0m\u001b[0m\n\u001b[1;32m    165\u001b[0m     \u001b[0;32mdef\u001b[0m \u001b[0mvformat\u001b[0m\u001b[0;34m(\u001b[0m\u001b[0mself\u001b[0m\u001b[0;34m,\u001b[0m \u001b[0mformat_string\u001b[0m\u001b[0;34m,\u001b[0m \u001b[0margs\u001b[0m\u001b[0;34m,\u001b[0m \u001b[0mkwargs\u001b[0m\u001b[0;34m)\u001b[0m\u001b[0;34m:\u001b[0m\u001b[0;34m\u001b[0m\u001b[0;34m\u001b[0m\u001b[0m\n",
      "\u001b[0;32m/usr/lib/python3.8/string.py\u001b[0m in \u001b[0;36mvformat\u001b[0;34m(self, format_string, args, kwargs)\u001b[0m\n\u001b[1;32m    165\u001b[0m     \u001b[0;32mdef\u001b[0m \u001b[0mvformat\u001b[0m\u001b[0;34m(\u001b[0m\u001b[0mself\u001b[0m\u001b[0;34m,\u001b[0m \u001b[0mformat_string\u001b[0m\u001b[0;34m,\u001b[0m \u001b[0margs\u001b[0m\u001b[0;34m,\u001b[0m \u001b[0mkwargs\u001b[0m\u001b[0;34m)\u001b[0m\u001b[0;34m:\u001b[0m\u001b[0;34m\u001b[0m\u001b[0;34m\u001b[0m\u001b[0m\n\u001b[1;32m    166\u001b[0m         \u001b[0mused_args\u001b[0m \u001b[0;34m=\u001b[0m \u001b[0mset\u001b[0m\u001b[0;34m(\u001b[0m\u001b[0;34m)\u001b[0m\u001b[0;34m\u001b[0m\u001b[0;34m\u001b[0m\u001b[0m\n\u001b[0;32m--> 167\u001b[0;31m         \u001b[0mresult\u001b[0m\u001b[0;34m,\u001b[0m \u001b[0m_\u001b[0m \u001b[0;34m=\u001b[0m \u001b[0mself\u001b[0m\u001b[0;34m.\u001b[0m\u001b[0m_vformat\u001b[0m\u001b[0;34m(\u001b[0m\u001b[0mformat_string\u001b[0m\u001b[0;34m,\u001b[0m \u001b[0margs\u001b[0m\u001b[0;34m,\u001b[0m \u001b[0mkwargs\u001b[0m\u001b[0;34m,\u001b[0m \u001b[0mused_args\u001b[0m\u001b[0;34m,\u001b[0m \u001b[0;36m2\u001b[0m\u001b[0;34m)\u001b[0m\u001b[0;34m\u001b[0m\u001b[0;34m\u001b[0m\u001b[0m\n\u001b[0m\u001b[1;32m    168\u001b[0m         \u001b[0mself\u001b[0m\u001b[0;34m.\u001b[0m\u001b[0mcheck_unused_args\u001b[0m\u001b[0;34m(\u001b[0m\u001b[0mused_args\u001b[0m\u001b[0;34m,\u001b[0m \u001b[0margs\u001b[0m\u001b[0;34m,\u001b[0m \u001b[0mkwargs\u001b[0m\u001b[0;34m)\u001b[0m\u001b[0;34m\u001b[0m\u001b[0;34m\u001b[0m\u001b[0m\n\u001b[1;32m    169\u001b[0m         \u001b[0;32mreturn\u001b[0m \u001b[0mresult\u001b[0m\u001b[0;34m\u001b[0m\u001b[0;34m\u001b[0m\u001b[0m\n",
      "\u001b[0;32m/usr/lib/python3.8/string.py\u001b[0m in \u001b[0;36m_vformat\u001b[0;34m(self, format_string, args, kwargs, used_args, recursion_depth, auto_arg_index)\u001b[0m\n\u001b[1;32m    209\u001b[0m \u001b[0;34m\u001b[0m\u001b[0m\n\u001b[1;32m    210\u001b[0m                 \u001b[0;31m# do any conversion on the resulting object\u001b[0m\u001b[0;34m\u001b[0m\u001b[0;34m\u001b[0m\u001b[0;34m\u001b[0m\u001b[0m\n\u001b[0;32m--> 211\u001b[0;31m                 \u001b[0mobj\u001b[0m \u001b[0;34m=\u001b[0m \u001b[0mself\u001b[0m\u001b[0;34m.\u001b[0m\u001b[0mconvert_field\u001b[0m\u001b[0;34m(\u001b[0m\u001b[0mobj\u001b[0m\u001b[0;34m,\u001b[0m \u001b[0mconversion\u001b[0m\u001b[0;34m)\u001b[0m\u001b[0;34m\u001b[0m\u001b[0;34m\u001b[0m\u001b[0m\n\u001b[0m\u001b[1;32m    212\u001b[0m \u001b[0;34m\u001b[0m\u001b[0m\n\u001b[1;32m    213\u001b[0m                 \u001b[0;31m# expand the format spec, if needed\u001b[0m\u001b[0;34m\u001b[0m\u001b[0;34m\u001b[0m\u001b[0;34m\u001b[0m\u001b[0m\n",
      "\u001b[0;32m/usr/lib/python3.8/string.py\u001b[0m in \u001b[0;36mconvert_field\u001b[0;34m(self, value, conversion)\u001b[0m\n\u001b[1;32m    248\u001b[0m         \u001b[0;32melif\u001b[0m \u001b[0mconversion\u001b[0m \u001b[0;34m==\u001b[0m \u001b[0;34m'a'\u001b[0m\u001b[0;34m:\u001b[0m\u001b[0;34m\u001b[0m\u001b[0;34m\u001b[0m\u001b[0m\n\u001b[1;32m    249\u001b[0m             \u001b[0;32mreturn\u001b[0m \u001b[0mascii\u001b[0m\u001b[0;34m(\u001b[0m\u001b[0mvalue\u001b[0m\u001b[0;34m)\u001b[0m\u001b[0;34m\u001b[0m\u001b[0;34m\u001b[0m\u001b[0m\n\u001b[0;32m--> 250\u001b[0;31m         \u001b[0;32mraise\u001b[0m \u001b[0mValueError\u001b[0m\u001b[0;34m(\u001b[0m\u001b[0;34m\"Unknown conversion specifier {0!s}\"\u001b[0m\u001b[0;34m.\u001b[0m\u001b[0mformat\u001b[0m\u001b[0;34m(\u001b[0m\u001b[0mconversion\u001b[0m\u001b[0;34m)\u001b[0m\u001b[0;34m)\u001b[0m\u001b[0;34m\u001b[0m\u001b[0;34m\u001b[0m\u001b[0m\n\u001b[0m\u001b[1;32m    251\u001b[0m \u001b[0;34m\u001b[0m\u001b[0m\n\u001b[1;32m    252\u001b[0m \u001b[0;34m\u001b[0m\u001b[0m\n",
      "\u001b[0;31mValueError\u001b[0m: Unknown conversion specifier u"
     ]
    }
   ],
   "source": [
    "import string\n",
    "string.Formatter().format(\"{name!u}\",name=\"hello\")"
   ]
  },
  {
   "cell_type": "code",
   "execution_count": null,
   "metadata": {},
   "outputs": [],
   "source": []
  }
 ]
}