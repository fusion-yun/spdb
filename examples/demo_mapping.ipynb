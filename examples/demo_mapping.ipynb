{
 "cells": [
  {
   "cell_type": "code",
   "execution_count": 1,
   "metadata": {},
   "outputs": [],
   "source": [
    "import os\n",
    "import pathlib\n",
    "import pprint\n",
    "import sys\n",
    "\n",
    "import matplotlib.pyplot as plt\n",
    "import numpy as np\n",
    "from spdm.logger import logger\n",
    "from spdm.data.File import File\n",
    "from spdm.data.Mapping import Mapping\n"
   ]
  },
  {
   "cell_type": "code",
   "execution_count": 2,
   "metadata": {},
   "outputs": [
    {
     "name": "stdout",
     "output_type": "stream",
     "text": [
      "\u001b[0;37m2022-10-27 09:32:13,487 DEBUG [spd] /home/salmon/workspace/SpDB/python/spdm/sp_export.py:101:sp_find_module_by_name: Load module spdm.plugins.data.file.PluginXML\u001b[0m\n",
      "\u001b[0;37m2022-10-27 09:32:13,489 DEBUG [spd] /home/salmon/workspace/SpDB/python/spdm/data/File.py:65:__init__: Open XMLFile: [PosixPath('/home/salmon/workspace/fytok_data/mapping/EAST/imas/3/static/config.xml'), PosixPath('/home/salmon/workspace/fytok_data/mapping/EAST/imas/3/dynamic/config.xml')] mode='r'\u001b[0m\n",
      "\u001b[0;37m2022-10-27 09:32:13,511 DEBUG [spd] /tmp/ipykernel_10728/1670394331.py:5:<module>: [2.844  2.8204 2.7737 2.7046 2.6143 2.5045 2.3771 2.2343 2.0786 1.9127\n",
      " 1.7389 1.5637 1.3995 1.2722 1.2108 1.199  1.199  1.199  1.199  1.199\n",
      " 1.199  1.199  1.199  1.199  1.199  1.2108 1.2722 1.3995 1.5637 1.7389\n",
      " 1.9127 2.0786 2.2343 2.3771 2.5045 2.6143 2.7046 2.7737 2.8204 2.844 ]\u001b[0m\n",
      "\u001b[0;37m2022-10-27 09:32:13,515 DEBUG [spd] /tmp/ipykernel_10728/1670394331.py:7:<module>: [ 0.089216  0.26608   0.43828   0.6028    0.75671   0.89735   1.0223\n",
      "  1.1292    1.2164    1.282     1.3197    1.3165    1.2605    1.1444\n",
      "  0.98288   0.80532   0.62636   0.4474    0.26844   0.08948  -0.08948\n",
      " -0.26844  -0.4474   -0.62636  -0.80532  -0.98288  -1.1444   -1.2605\n",
      " -1.3165   -1.3197   -1.282    -1.2164   -1.1292   -1.0223   -0.89735\n",
      " -0.75671  -0.6028   -0.43828  -0.26608  -0.089216]\u001b[0m\n"
     ]
    },
    {
     "data": {
      "text/plain": [
       "(0.4099695, 3.4525805000000003, -2.2861135000000004, 2.2861135000000004)"
      ]
     },
     "execution_count": 2,
     "metadata": {},
     "output_type": "execute_result"
    },
    {
     "data": {
      "image/png": "[encoded data removed]",
      "image/svg+xml": "<?xml version=\"1.0\" encoding=\"utf-8\" standalone=\"no\"?>\n<!DOCTYPE svg PUBLIC \"-//W3C//DTD SVG 1.1//EN\"\n  \"http://www.w3.org/Graphics/SVG/1.1/DTD/svg11.dtd\">\n<!-- Created with matplotlib (https://matplotlib.org/) -->\n<svg height=\"248.518125pt\" version=\"1.1\" viewBox=\"0 0 180.838708 248.518125\" width=\"180.838708pt\" xmlns=\"http://www.w3.org/2000/svg\" xmlns:xlink=\"http://www.w3.org/1999/xlink\">\n <metadata>\n  <rdf:RDF xmlns:cc=\"http://creativecommons.org/ns#\" xmlns:dc=\"http://purl.org/dc/elements/1.1/\" xmlns:rdf=\"http://www.w3.org/1999/02/22-rdf-syntax-ns#\">\n   <cc:Work>\n    <dc:type rdf:resource=\"http://purl.org/dc/dcmitype/StillImage\"/>\n    <dc:date>2022-10-27T09:32:13.738598</dc:date>\n    <dc:format>image/svg+xml</dc:format>\n    <dc:creator>\n     <cc:Agent>\n      <dc:title>Matplotlib v3.3.3, https://matplotlib.org/</dc:title>\n     </cc:Agent>\n    </dc:creator>\n   </cc:Work>\n  </rdf:RDF>\n </metadata>\n <defs>\n  <style type=\"text/css\">*{stroke-linecap:butt;stroke-linejoin:round;}</style>\n </defs>\n <g id=\"figure_1\">\n  <g id=\"patch_1\">\n   <path d=\"M 0 248.518125 \nL 180.838708 248.518125 \nL 180.838708 0 \nL 0 0 \nz\n\" style=\"fill:none;\"/>\n  </g>\n  <g id=\"axes_1\">\n   <g id=\"patch_2\">\n    <path d=\"M 28.942188 224.64 \nL 173.638708 224.64 \nL 173.638708 7.2 \nL 28.942188 7.2 \nz\n\" style=\"fill:#ffffff;\"/>\n   </g>\n   <g id=\"patch_3\">\n    <path clip-path=\"url(#p219f43ae0a)\" d=\"M 144.696631 111.677182 \nL 143.574293 103.266115 \nL 141.353395 95.076852 \nL 138.067228 87.252825 \nL 133.772858 79.933374 \nL 128.551133 73.245001 \nL 122.492411 67.302792 \nL 115.701315 62.218981 \nL 108.296737 58.072038 \nL 100.407082 54.952318 \nL 92.141729 53.159431 \nL 83.809796 53.311612 \nL 76.000987 55.974787 \nL 69.947019 61.496119 \nL 67.027038 69.177477 \nL 66.465869 77.621643 \nL 66.465869 86.132389 \nL 66.465869 94.643135 \nL 66.465869 103.153881 \nL 66.465869 111.664627 \nL 66.465869 120.175373 \nL 66.465869 128.686119 \nL 66.465869 137.196865 \nL 66.465869 145.707611 \nL 66.465869 154.218357 \nL 67.027038 162.662523 \nL 69.947019 170.343881 \nL 76.000987 175.865213 \nL 83.809796 178.528388 \nL 92.141729 178.680569 \nL 100.407082 176.887682 \nL 108.296737 173.767962 \nL 115.701315 169.621019 \nL 122.492411 164.537208 \nL 128.551133 158.594999 \nL 133.772858 151.906626 \nL 138.067228 144.587175 \nL 141.353395 136.763148 \nL 143.574293 128.573885 \nL 144.696631 120.162818 \nz\n\" style=\"fill:none;stroke:#000000;stroke-linejoin:miter;\"/>\n   </g>\n   <g id=\"patch_4\">\n    <path clip-path=\"url(#p219f43ae0a)\" d=\"M 35.519302 114.710395 \nL 43.165467 114.710395 \nL 43.165467 93.225708 \nL 35.519302 93.225708 \nz\n\" style=\"fill:none;stroke:#000000;stroke-linejoin:miter;\"/>\n   </g>\n   <g id=\"patch_5\">\n    <path clip-path=\"url(#p219f43ae0a)\" d=\"M 35.519302 138.614292 \nL 43.165467 138.614292 \nL 43.165467 117.129605 \nL 35.519302 117.129605 \nz\n\" style=\"fill:none;stroke:#000000;stroke-linejoin:miter;\"/>\n   </g>\n   <g id=\"patch_6\">\n    <path clip-path=\"url(#p219f43ae0a)\" d=\"M 35.519302 90.806499 \nL 43.165467 90.806499 \nL 43.165467 69.321811 \nL 35.519302 69.321811 \nz\n\" style=\"fill:none;stroke:#000000;stroke-linejoin:miter;\"/>\n   </g>\n   <g id=\"patch_7\">\n    <path clip-path=\"url(#p219f43ae0a)\" d=\"M 35.519302 162.518189 \nL 43.165467 162.518189 \nL 43.165467 141.033501 \nL 35.519302 141.033501 \nz\n\" style=\"fill:none;stroke:#000000;stroke-linejoin:miter;\"/>\n   </g>\n   <g id=\"patch_8\">\n    <path clip-path=\"url(#p219f43ae0a)\" d=\"M 35.519302 66.902602 \nL 43.165467 66.902602 \nL 43.165467 45.417915 \nL 35.519302 45.417915 \nz\n\" style=\"fill:none;stroke:#000000;stroke-linejoin:miter;\"/>\n   </g>\n   <g id=\"patch_9\">\n    <path clip-path=\"url(#p219f43ae0a)\" d=\"M 35.519302 186.422085 \nL 43.165467 186.422085 \nL 43.165467 164.937398 \nL 35.519302 164.937398 \nz\n\" style=\"fill:none;stroke:#000000;stroke-linejoin:miter;\"/>\n   </g>\n   <g id=\"patch_10\">\n    <path clip-path=\"url(#p219f43ae0a)\" d=\"M 54.562429 34.842733 \nL 66.306079 34.842733 \nL 66.306079 30.196919 \nL 54.562429 30.196919 \nz\n\" style=\"fill:none;stroke:#000000;stroke-linejoin:miter;\"/>\n   </g>\n   <g id=\"patch_11\">\n    <path clip-path=\"url(#p219f43ae0a)\" d=\"M 54.562429 201.643081 \nL 66.306079 201.643081 \nL 66.306079 196.997267 \nL 54.562429 196.997267 \nz\n\" style=\"fill:none;stroke:#000000;stroke-linejoin:miter;\"/>\n   </g>\n   <g id=\"patch_12\">\n    <path clip-path=\"url(#p219f43ae0a)\" d=\"M 54.562429 30.148887 \nL 72.452306 30.148887 \nL 72.452306 17.083636 \nL 54.562429 17.083636 \nz\n\" style=\"fill:none;stroke:#000000;stroke-linejoin:miter;\"/>\n   </g>\n   <g id=\"patch_13\">\n    <path clip-path=\"url(#p219f43ae0a)\" d=\"M 54.562429 214.756364 \nL 72.452306 214.756364 \nL 72.452306 201.691113 \nL 54.562429 201.691113 \nz\n\" style=\"fill:none;stroke:#000000;stroke-linejoin:miter;\"/>\n   </g>\n   <g id=\"patch_14\">\n    <path clip-path=\"url(#p219f43ae0a)\" d=\"M 146.473349 45.324466 \nL 152.581531 45.324466 \nL 152.581531 35.215815 \nL 146.473349 35.215815 \nz\n\" style=\"fill:none;stroke:#000000;stroke-linejoin:miter;\"/>\n   </g>\n   <g id=\"patch_15\">\n    <path clip-path=\"url(#p219f43ae0a)\" d=\"M 146.473349 196.624185 \nL 152.581531 196.624185 \nL 152.581531 186.515534 \nL 146.473349 186.515534 \nz\n\" style=\"fill:none;stroke:#000000;stroke-linejoin:miter;\"/>\n   </g>\n   <g id=\"patch_16\">\n    <path clip-path=\"url(#p219f43ae0a)\" d=\"M 162.83095 77.006735 \nL 167.061593 77.006735 \nL 167.061593 68.832691 \nL 162.83095 68.832691 \nz\n\" style=\"fill:none;stroke:#000000;stroke-linejoin:miter;\"/>\n   </g>\n   <g id=\"patch_17\">\n    <path clip-path=\"url(#p219f43ae0a)\" d=\"M 162.83095 163.007309 \nL 167.061593 163.007309 \nL 167.061593 154.833265 \nL 162.83095 154.833265 \nz\n\" style=\"fill:none;stroke:#000000;stroke-linejoin:miter;\"/>\n   </g>\n   <g id=\"patch_18\">\n    <path clip-path=\"url(#p219f43ae0a)\" d=\"M 122.392542 89.763818 \nL 124.770376 89.763818 \nL 124.770376 85.008149 \nL 122.392542 85.008149 \nz\n\" style=\"fill:none;stroke:#000000;stroke-linejoin:miter;\"/>\n   </g>\n   <g id=\"patch_19\">\n    <path clip-path=\"url(#p219f43ae0a)\" d=\"M 122.392542 146.831851 \nL 124.770376 146.831851 \nL 124.770376 142.076182 \nL 122.392542 142.076182 \nz\n\" style=\"fill:none;stroke:#000000;stroke-linejoin:miter;\"/>\n   </g>\n   <g id=\"matplotlib.axis_1\">\n    <g id=\"xtick_1\">\n     <g id=\"line2d_1\">\n      <defs>\n       <path d=\"M 0 0 \nL 0 3.5 \n\" id=\"m29d1025a04\" style=\"stroke:#000000;stroke-width:0.8;\"/>\n      </defs>\n      <g>\n       <use style=\"stroke:#000000;stroke-width:0.8;\" x=\"57.002087\" xlink:href=\"#m29d1025a04\" y=\"224.64\"/>\n      </g>\n     </g>\n     <g id=\"text_1\">\n      <!-- 1 -->\n      <g transform=\"translate(53.820837 239.238437)scale(0.1 -0.1)\">\n       <defs>\n        <path d=\"M 12.40625 8.296875 \nL 28.515625 8.296875 \nL 28.515625 63.921875 \nL 10.984375 60.40625 \nL 10.984375 69.390625 \nL 28.421875 72.90625 \nL 38.28125 72.90625 \nL 38.28125 8.296875 \nL 54.390625 8.296875 \nL 54.390625 0 \nL 12.40625 0 \nz\n\" id=\"DejaVuSans-49\"/>\n       </defs>\n       <use xlink:href=\"#DejaVuSans-49\"/>\n      </g>\n     </g>\n    </g>\n    <g id=\"xtick_2\">\n     <g id=\"line2d_2\">\n      <g>\n       <use style=\"stroke:#000000;stroke-width:0.8;\" x=\"104.558781\" xlink:href=\"#m29d1025a04\" y=\"224.64\"/>\n      </g>\n     </g>\n     <g id=\"text_2\">\n      <!-- 2 -->\n      <g transform=\"translate(101.377531 239.238437)scale(0.1 -0.1)\">\n       <defs>\n        <path d=\"M 19.1875 8.296875 \nL 53.609375 8.296875 \nL 53.609375 0 \nL 7.328125 0 \nL 7.328125 8.296875 \nQ 12.9375 14.109375 22.625 23.890625 \nQ 32.328125 33.6875 34.8125 36.53125 \nQ 39.546875 41.84375 41.421875 45.53125 \nQ 43.3125 49.21875 43.3125 52.78125 \nQ 43.3125 58.59375 39.234375 62.25 \nQ 35.15625 65.921875 28.609375 65.921875 \nQ 23.96875 65.921875 18.8125 64.3125 \nQ 13.671875 62.703125 7.8125 59.421875 \nL 7.8125 69.390625 \nQ 13.765625 71.78125 18.9375 73 \nQ 24.125 74.21875 28.421875 74.21875 \nQ 39.75 74.21875 46.484375 68.546875 \nQ 53.21875 62.890625 53.21875 53.421875 \nQ 53.21875 48.921875 51.53125 44.890625 \nQ 49.859375 40.875 45.40625 35.40625 \nQ 44.1875 33.984375 37.640625 27.21875 \nQ 31.109375 20.453125 19.1875 8.296875 \nz\n\" id=\"DejaVuSans-50\"/>\n       </defs>\n       <use xlink:href=\"#DejaVuSans-50\"/>\n      </g>\n     </g>\n    </g>\n    <g id=\"xtick_3\">\n     <g id=\"line2d_3\">\n      <g>\n       <use style=\"stroke:#000000;stroke-width:0.8;\" x=\"152.115475\" xlink:href=\"#m29d1025a04\" y=\"224.64\"/>\n      </g>\n     </g>\n     <g id=\"text_3\">\n      <!-- 3 -->\n      <g transform=\"translate(148.934225 239.238437)scale(0.1 -0.1)\">\n       <defs>\n        <path d=\"M 40.578125 39.3125 \nQ 47.65625 37.796875 51.625 33 \nQ 55.609375 28.21875 55.609375 21.1875 \nQ 55.609375 10.40625 48.1875 4.484375 \nQ 40.765625 -1.421875 27.09375 -1.421875 \nQ 22.515625 -1.421875 17.65625 -0.515625 \nQ 12.796875 0.390625 7.625 2.203125 \nL 7.625 11.71875 \nQ 11.71875 9.328125 16.59375 8.109375 \nQ 21.484375 6.890625 26.8125 6.890625 \nQ 36.078125 6.890625 40.9375 10.546875 \nQ 45.796875 14.203125 45.796875 21.1875 \nQ 45.796875 27.640625 41.28125 31.265625 \nQ 36.765625 34.90625 28.71875 34.90625 \nL 20.21875 34.90625 \nL 20.21875 43.015625 \nL 29.109375 43.015625 \nQ 36.375 43.015625 40.234375 45.921875 \nQ 44.09375 48.828125 44.09375 54.296875 \nQ 44.09375 59.90625 40.109375 62.90625 \nQ 36.140625 65.921875 28.71875 65.921875 \nQ 24.65625 65.921875 20.015625 65.03125 \nQ 15.375 64.15625 9.8125 62.3125 \nL 9.8125 71.09375 \nQ 15.4375 72.65625 20.34375 73.4375 \nQ 25.25 74.21875 29.59375 74.21875 \nQ 40.828125 74.21875 47.359375 69.109375 \nQ 53.90625 64.015625 53.90625 55.328125 \nQ 53.90625 49.265625 50.4375 45.09375 \nQ 46.96875 40.921875 40.578125 39.3125 \nz\n\" id=\"DejaVuSans-51\"/>\n       </defs>\n       <use xlink:href=\"#DejaVuSans-51\"/>\n      </g>\n     </g>\n    </g>\n   </g>\n   <g id=\"matplotlib.axis_2\">\n    <g id=\"ytick_1\">\n     <g id=\"line2d_4\">\n      <defs>\n       <path d=\"M 0 0 \nL -3.5 0 \n\" id=\"m9a3dc10c4f\" style=\"stroke:#000000;stroke-width:0.8;\"/>\n      </defs>\n      <g>\n       <use style=\"stroke:#000000;stroke-width:0.8;\" x=\"28.942188\" xlink:href=\"#m9a3dc10c4f\" y=\"211.033388\"/>\n      </g>\n     </g>\n     <g id=\"text_4\">\n      <!-- −2 -->\n      <g transform=\"translate(7.2 214.832607)scale(0.1 -0.1)\">\n       <defs>\n        <path d=\"M 10.59375 35.5 \nL 73.1875 35.5 \nL 73.1875 27.203125 \nL 10.59375 27.203125 \nz\n\" id=\"DejaVuSans-8722\"/>\n       </defs>\n       <use xlink:href=\"#DejaVuSans-8722\"/>\n       <use x=\"83.789062\" xlink:href=\"#DejaVuSans-50\"/>\n      </g>\n     </g>\n    </g>\n    <g id=\"ytick_2\">\n     <g id=\"line2d_5\">\n      <g>\n       <use style=\"stroke:#000000;stroke-width:0.8;\" x=\"28.942188\" xlink:href=\"#m9a3dc10c4f\" y=\"163.476694\"/>\n      </g>\n     </g>\n     <g id=\"text_5\">\n      <!-- −1 -->\n      <g transform=\"translate(7.2 167.275913)scale(0.1 -0.1)\">\n       <use xlink:href=\"#DejaVuSans-8722\"/>\n       <use x=\"83.789062\" xlink:href=\"#DejaVuSans-49\"/>\n      </g>\n     </g>\n    </g>\n    <g id=\"ytick_3\">\n     <g id=\"line2d_6\">\n      <g>\n       <use style=\"stroke:#000000;stroke-width:0.8;\" x=\"28.942188\" xlink:href=\"#m9a3dc10c4f\" y=\"115.92\"/>\n      </g>\n     </g>\n     <g id=\"text_6\">\n      <!-- 0 -->\n      <g transform=\"translate(15.579688 119.719219)scale(0.1 -0.1)\">\n       <defs>\n        <path d=\"M 31.78125 66.40625 \nQ 24.171875 66.40625 20.328125 58.90625 \nQ 16.5 51.421875 16.5 36.375 \nQ 16.5 21.390625 20.328125 13.890625 \nQ 24.171875 6.390625 31.78125 6.390625 \nQ 39.453125 6.390625 43.28125 13.890625 \nQ 47.125 21.390625 47.125 36.375 \nQ 47.125 51.421875 43.28125 58.90625 \nQ 39.453125 66.40625 31.78125 66.40625 \nz\nM 31.78125 74.21875 \nQ 44.046875 74.21875 50.515625 64.515625 \nQ 56.984375 54.828125 56.984375 36.375 \nQ 56.984375 17.96875 50.515625 8.265625 \nQ 44.046875 -1.421875 31.78125 -1.421875 \nQ 19.53125 -1.421875 13.0625 8.265625 \nQ 6.59375 17.96875 6.59375 36.375 \nQ 6.59375 54.828125 13.0625 64.515625 \nQ 19.53125 74.21875 31.78125 74.21875 \nz\n\" id=\"DejaVuSans-48\"/>\n       </defs>\n       <use xlink:href=\"#DejaVuSans-48\"/>\n      </g>\n     </g>\n    </g>\n    <g id=\"ytick_4\">\n     <g id=\"line2d_7\">\n      <g>\n       <use style=\"stroke:#000000;stroke-width:0.8;\" x=\"28.942188\" xlink:href=\"#m9a3dc10c4f\" y=\"68.363306\"/>\n      </g>\n     </g>\n     <g id=\"text_7\">\n      <!-- 1 -->\n      <g transform=\"translate(15.579688 72.162525)scale(0.1 -0.1)\">\n       <use xlink:href=\"#DejaVuSans-49\"/>\n      </g>\n     </g>\n    </g>\n    <g id=\"ytick_5\">\n     <g id=\"line2d_8\">\n      <g>\n       <use style=\"stroke:#000000;stroke-width:0.8;\" x=\"28.942188\" xlink:href=\"#m9a3dc10c4f\" y=\"20.806612\"/>\n      </g>\n     </g>\n     <g id=\"text_8\">\n      <!-- 2 -->\n      <g transform=\"translate(15.579688 24.605831)scale(0.1 -0.1)\">\n       <use xlink:href=\"#DejaVuSans-50\"/>\n      </g>\n     </g>\n    </g>\n   </g>\n   <g id=\"patch_20\">\n    <path d=\"M 28.942188 224.64 \nL 28.942188 7.2 \n\" style=\"fill:none;stroke:#000000;stroke-linecap:square;stroke-linejoin:miter;stroke-width:0.8;\"/>\n   </g>\n   <g id=\"patch_21\">\n    <path d=\"M 173.638708 224.64 \nL 173.638708 7.2 \n\" style=\"fill:none;stroke:#000000;stroke-linecap:square;stroke-linejoin:miter;stroke-width:0.8;\"/>\n   </g>\n   <g id=\"patch_22\">\n    <path d=\"M 28.942188 224.64 \nL 173.638708 224.64 \n\" style=\"fill:none;stroke:#000000;stroke-linecap:square;stroke-linejoin:miter;stroke-width:0.8;\"/>\n   </g>\n   <g id=\"patch_23\">\n    <path d=\"M 28.942188 7.2 \nL 173.638708 7.2 \n\" style=\"fill:none;stroke:#000000;stroke-linecap:square;stroke-linejoin:miter;stroke-width:0.8;\"/>\n   </g>\n  </g>\n </g>\n <defs>\n  <clipPath id=\"p219f43ae0a\">\n   <rect height=\"217.44\" width=\"144.69652\" x=\"28.942188\" y=\"7.2\"/>\n  </clipPath>\n </defs>\n</svg>\n",
      "text/plain": [
       "<Figure size 432x288 with 1 Axes>"
      ]
     },
     "metadata": {
      "needs_background": "light"
     },
     "output_type": "display_data"
    }
   ],
   "source": [
    "mapping = Mapping(mapping_path=\"/home/salmon/workspace/fytok_data/mapping\")\n",
    "\n",
    "entry = mapping.find(\"EAST\")\n",
    "\n",
    "logger.debug(entry.get(\"wall.description_2d.vessel.annular.outline_outer.r\"))\n",
    "\n",
    "logger.debug(entry.get(\"wall.description_2d.vessel.annular.outline_outer.z\"))\n",
    "\n",
    "plt.gca().add_patch(plt.Polygon(np.array([entry.get(\"wall.description_2d.vessel.annular.outline_outer.r\"),\n",
    "                                            entry.get(\"wall.description_2d.vessel.annular.outline_outer.z\")]).transpose([1, 0]),\n",
    "                                fill=False, closed=True))\n",
    "\n",
    "for coil in entry.get(\"pf_active.coil\"):\n",
    "    rect = coil.get([\"element\", 0, \"geometry\",\"rectangle\"]).dump_named()\n",
    "    plt.gca().add_patch(plt.Rectangle((rect.r-rect.width/2.0, rect.z -\n",
    "                                        rect.height/2.0), rect.width, rect.height, fill=False))\n",
    "plt.axis('scaled')"
   ]
  },
  {
   "cell_type": "code",
   "execution_count": 4,
   "metadata": {},
   "outputs": [
    {
     "name": "stdout",
     "output_type": "stream",
     "text": [
      "\u001b[0;37m2022-10-27 07:45:19,080 DEBUG [spd] /home/salmon/workspace/SpDB/python/spdm/data/File.py:65:__init__: Open MDSplusFile: /home/salmon/public_data/efit_east mode='r'\u001b[0m\n",
      "\u001b[0;37m2022-10-27 07:45:19,082 DEBUG [spd] /home/salmon/workspace/SpDB/python/spdm/data/File.py:65:__init__: Open XMLFile: [PosixPath('/home/salmon/workspace/fytok_data/mapping/EAST/imas/3/static/config.xml'), PosixPath('/home/salmon/workspace/fytok_data/mapping/EAST/imas/3/dynamic/config.xml')] mode='r'\u001b[0m\n",
      "\u001b[0;37m2022-10-27 07:45:19,092 DEBUG [spd] /tmp/ipykernel_5870/780853275.py:3:<module>: <psi  path=\"\" />\u001b[0m\n"
     ]
    }
   ],
   "source": [
    "m_entry = mapping.map(File(\"/home/salmon/public_data/efit_east\", format=\"mdsplus\").read(), source_schema=\"EAST\")\n",
    "\n",
    "logger.debug(entry.get([\"equilibrium\",\"time_slice\", 0, \"profiles_2d\",\"psi\"]))\n"
   ]
  },
  {
   "cell_type": "code",
   "execution_count": null,
   "metadata": {},
   "outputs": [],
   "source": []
  }
 ],
 "metadata": {
  "kernelspec": {
   "display_name": "Python 3.8.6 64-bit",
   "language": "python",
   "name": "python3"
  },
  "language_info": {
   "codemirror_mode": {
    "name": "ipython",
    "version": 3
   },
   "file_extension": ".py",
   "mimetype": "text/x-python",
   "name": "python",
   "nbconvert_exporter": "python",
   "pygments_lexer": "ipython3",
   "version": "3.8.6"
  },
  "orig_nbformat": 4,
  "vscode": {
   "interpreter": {
    "hash": "7ad1475237ae0817e601552d8b87bcccd09bed7a3d2283cd00b88633837ae647"
   }
  }
 },
 "nbformat": 4,
 "nbformat_minor": 2
}
