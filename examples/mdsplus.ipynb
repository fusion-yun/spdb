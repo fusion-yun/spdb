{
 "metadata": {
  "language_info": {
   "codemirror_mode": {
    "name": "ipython",
    "version": 3
   },
   "file_extension": ".py",
   "mimetype": "text/x-python",
   "name": "python",
   "nbconvert_exporter": "python",
   "pygments_lexer": "ipython3",
   "version": "3.8.2-final"
  },
  "orig_nbformat": 2,
  "kernelspec": {
   "name": "Python 3.8.2 64-bit",
   "display_name": "Python 3.8.2 64-bit",
   "metadata": {
    "interpreter": {
     "hash": "31f2aee4e71d21fbe5cf8b01ff0e069b9275f58929596ceb00d14d90e3e16cd6"
    }
   }
  }
 },
 "nbformat": 4,
 "nbformat_minor": 2,
 "cells": [
  {
   "cell_type": "code",
   "execution_count": 1,
   "metadata": {},
   "outputs": [],
   "source": [
    "import MDSplus as mds\n",
    "import os \n",
    "import matplotlib.pyplot as plt\n"
   ]
  },
  {
   "cell_type": "code",
   "execution_count": 2,
   "metadata": {},
   "outputs": [],
   "source": [
    "os.environ['default_tree_path']='/home/salmon/public_data/~t/'\n",
    "# os.environ['pcs_east_path']='/home/salmon/public_data/pcs_east'\n",
    "\n"
   ]
  },
  {
   "cell_type": "code",
   "execution_count": 8,
   "metadata": {},
   "outputs": [
    {
     "output_type": "error",
     "ename": "TdiSYNTAX",
     "evalue": "%TDI-E-SYNTAX, Bad punctuation or misspelled word or number",
     "traceback": [
      "\u001b[0;31m---------------------------------------------------------------------------\u001b[0m",
      "\u001b[0;31mTdiSYNTAX\u001b[0m                                 Traceback (most recent call last)",
      "\u001b[0;32m<ipython-input-8-4bb4eee869ed>\u001b[0m in \u001b[0;36m<module>\u001b[0;34m\u001b[0m\n\u001b[1;32m      1\u001b[0m \u001b[0mt0\u001b[0m\u001b[0;34m=\u001b[0m\u001b[0mmds\u001b[0m\u001b[0;34m.\u001b[0m\u001b[0mTree\u001b[0m\u001b[0;34m(\u001b[0m\u001b[0;34m\"efit_east\"\u001b[0m\u001b[0;34m,\u001b[0m\u001b[0;36m55555\u001b[0m\u001b[0;34m,\u001b[0m\u001b[0mmode\u001b[0m\u001b[0;34m=\u001b[0m\u001b[0;34m\"READONLY\"\u001b[0m \u001b[0;34m)\u001b[0m\u001b[0;34m\u001b[0m\u001b[0;34m\u001b[0m\u001b[0m\n\u001b[1;32m      2\u001b[0m \u001b[0mt1\u001b[0m\u001b[0;34m=\u001b[0m\u001b[0mmds\u001b[0m\u001b[0;34m.\u001b[0m\u001b[0mTree\u001b[0m\u001b[0;34m(\u001b[0m\u001b[0;34m\"pcs_east\"\u001b[0m\u001b[0;34m,\u001b[0m\u001b[0;36m55555\u001b[0m\u001b[0;34m,\u001b[0m\u001b[0mmode\u001b[0m\u001b[0;34m=\u001b[0m\u001b[0;34m\"READONLY\"\u001b[0m \u001b[0;34m)\u001b[0m\u001b[0;34m\u001b[0m\u001b[0;34m\u001b[0m\u001b[0m\n\u001b[0;32m----> 3\u001b[0;31m \u001b[0mmds\u001b[0m\u001b[0;34m.\u001b[0m\u001b[0mtdi\u001b[0m\u001b[0;34m(\u001b[0m\u001b[0;34m\"treeopen(\\\"pcs_east\\\",55555\"\u001b[0m\u001b[0;34m)\u001b[0m\u001b[0;34m\u001b[0m\u001b[0;34m\u001b[0m\u001b[0m\n\u001b[0m\u001b[1;32m      4\u001b[0m \u001b[0mmds\u001b[0m\u001b[0;34m.\u001b[0m\u001b[0mtdi\u001b[0m\u001b[0;34m(\u001b[0m\u001b[0;34mf\"\\\\pcs_east::pcpf1)\"\u001b[0m\u001b[0;34m)\u001b[0m\u001b[0;34m\u001b[0m\u001b[0;34m\u001b[0m\u001b[0m\n",
      "\u001b[0;32m/usr/local/mdsplus/python/MDSplus/mdsdata.py\u001b[0m in \u001b[0;36mTdiExecute\u001b[0;34m(expression, *args, **kwargs)\u001b[0m\n\u001b[1;32m     76\u001b[0m \u001b[0;32mdef\u001b[0m \u001b[0mTdiExecute\u001b[0m\u001b[0;34m(\u001b[0m\u001b[0mexpression\u001b[0m\u001b[0;34m,\u001b[0m\u001b[0;34m*\u001b[0m\u001b[0margs\u001b[0m\u001b[0;34m,\u001b[0m\u001b[0;34m**\u001b[0m\u001b[0mkwargs\u001b[0m\u001b[0;34m)\u001b[0m\u001b[0;34m:\u001b[0m\u001b[0;34m\u001b[0m\u001b[0;34m\u001b[0m\u001b[0m\n\u001b[1;32m     77\u001b[0m     \u001b[0;34m\"\"\"Compile and evaluate a TDI expression. Format: TdiExecute('expression-string')\"\"\"\u001b[0m\u001b[0;34m\u001b[0m\u001b[0;34m\u001b[0m\u001b[0m\n\u001b[0;32m---> 78\u001b[0;31m     \u001b[0;32mreturn\u001b[0m \u001b[0m_cmp\u001b[0m\u001b[0;34m.\u001b[0m\u001b[0mEXECUTE\u001b[0m\u001b[0;34m(\u001b[0m\u001b[0mexpression\u001b[0m\u001b[0;34m,\u001b[0m\u001b[0;34m*\u001b[0m\u001b[0m_unwrap\u001b[0m\u001b[0;34m(\u001b[0m\u001b[0margs\u001b[0m\u001b[0;34m)\u001b[0m\u001b[0;34m)\u001b[0m\u001b[0;34m.\u001b[0m\u001b[0m_setTree\u001b[0m\u001b[0;34m(\u001b[0m\u001b[0;34m**\u001b[0m\u001b[0mkwargs\u001b[0m\u001b[0;34m)\u001b[0m\u001b[0;34m.\u001b[0m\u001b[0mevaluate\u001b[0m\u001b[0;34m(\u001b[0m\u001b[0;34m)\u001b[0m\u001b[0;34m\u001b[0m\u001b[0;34m\u001b[0m\u001b[0m\n\u001b[0m\u001b[1;32m     79\u001b[0m \u001b[0mtdi\u001b[0m\u001b[0;34m=\u001b[0m\u001b[0mTdiExecute\u001b[0m\u001b[0;34m\u001b[0m\u001b[0;34m\u001b[0m\u001b[0m\n\u001b[1;32m     80\u001b[0m \u001b[0;34m\u001b[0m\u001b[0m\n",
      "\u001b[0;32m/usr/local/mdsplus/python/MDSplus/compound.py\u001b[0m in \u001b[0;36mevaluate\u001b[0;34m(self)\u001b[0m\n\u001b[1;32m    346\u001b[0m                 \u001b[0m_exc\u001b[0m\u001b[0;34m.\u001b[0m\u001b[0mcheckStatus\u001b[0m\u001b[0;34m(\u001b[0m\u001b[0m_TdiShr\u001b[0m\u001b[0;34m.\u001b[0m\u001b[0m_TdiIntrinsic\u001b[0m\u001b[0;34m(\u001b[0m\u001b[0mtree\u001b[0m\u001b[0;34m.\u001b[0m\u001b[0mpctx\u001b[0m\u001b[0;34m,\u001b[0m\u001b[0mself\u001b[0m\u001b[0;34m.\u001b[0m\u001b[0mopcode\u001b[0m\u001b[0;34m,\u001b[0m\u001b[0mnargs\u001b[0m\u001b[0;34m,\u001b[0m\u001b[0margslist\u001b[0m\u001b[0;34m,\u001b[0m\u001b[0mxd\u001b[0m\u001b[0;34m.\u001b[0m\u001b[0mref\u001b[0m\u001b[0;34m)\u001b[0m\u001b[0;34m)\u001b[0m\u001b[0;34m\u001b[0m\u001b[0;34m\u001b[0m\u001b[0m\n\u001b[1;32m    347\u001b[0m                 \u001b[0;32mreturn\u001b[0m \u001b[0mxd\u001b[0m\u001b[0;34m.\u001b[0m\u001b[0m_setTree\u001b[0m\u001b[0;34m(\u001b[0m\u001b[0mtree\u001b[0m\u001b[0;34m)\u001b[0m\u001b[0;34m.\u001b[0m\u001b[0mvalue\u001b[0m\u001b[0;34m\u001b[0m\u001b[0;34m\u001b[0m\u001b[0m\n\u001b[0;32m--> 348\u001b[0;31m         \u001b[0m_exc\u001b[0m\u001b[0;34m.\u001b[0m\u001b[0mcheckStatus\u001b[0m\u001b[0;34m(\u001b[0m\u001b[0m_TdiShr\u001b[0m\u001b[0;34m.\u001b[0m \u001b[0mTdiIntrinsic\u001b[0m\u001b[0;34m(\u001b[0m               \u001b[0mself\u001b[0m\u001b[0;34m.\u001b[0m\u001b[0mopcode\u001b[0m\u001b[0;34m,\u001b[0m\u001b[0mnargs\u001b[0m\u001b[0;34m,\u001b[0m\u001b[0margslist\u001b[0m\u001b[0;34m,\u001b[0m\u001b[0mxd\u001b[0m\u001b[0;34m.\u001b[0m\u001b[0mref\u001b[0m\u001b[0;34m)\u001b[0m\u001b[0;34m)\u001b[0m\u001b[0;34m\u001b[0m\u001b[0;34m\u001b[0m\u001b[0m\n\u001b[0m\u001b[1;32m    349\u001b[0m         \u001b[0;32mreturn\u001b[0m \u001b[0mxd\u001b[0m\u001b[0;34m.\u001b[0m\u001b[0mvalue\u001b[0m\u001b[0;34m\u001b[0m\u001b[0;34m\u001b[0m\u001b[0m\n\u001b[1;32m    350\u001b[0m \u001b[0m_dsc\u001b[0m\u001b[0;34m.\u001b[0m\u001b[0maddDtypeToClass\u001b[0m\u001b[0;34m(\u001b[0m\u001b[0mFunction\u001b[0m\u001b[0;34m)\u001b[0m\u001b[0;34m\u001b[0m\u001b[0;34m\u001b[0m\u001b[0m\n",
      "\u001b[0;32m/usr/local/mdsplus/python/MDSplus/mdsExceptions.py\u001b[0m in \u001b[0;36mcheckStatus\u001b[0;34m(status, ignore, message)\u001b[0m\n\u001b[1;32m     92\u001b[0m             \u001b[0mprint\u001b[0m\u001b[0;34m(\u001b[0m\u001b[0mexception\u001b[0m\u001b[0;34m.\u001b[0m\u001b[0mmessage\u001b[0m\u001b[0;34m)\u001b[0m\u001b[0;34m\u001b[0m\u001b[0;34m\u001b[0m\u001b[0m\n\u001b[1;32m     93\u001b[0m         \u001b[0;32melse\u001b[0m\u001b[0;34m:\u001b[0m\u001b[0;34m\u001b[0m\u001b[0;34m\u001b[0m\u001b[0m\n\u001b[0;32m---> 94\u001b[0;31m             \u001b[0;32mraise\u001b[0m \u001b[0mexception\u001b[0m\u001b[0;34m\u001b[0m\u001b[0;34m\u001b[0m\u001b[0m\n\u001b[0m\u001b[1;32m     95\u001b[0m \u001b[0;34m\u001b[0m\u001b[0m\n\u001b[1;32m     96\u001b[0m \u001b[0;31m########################### generated from mitdevices_messages.xml ########################\u001b[0m\u001b[0;34m\u001b[0m\u001b[0;34m\u001b[0m\u001b[0;34m\u001b[0m\u001b[0m\n",
      "\u001b[0;31mTdiSYNTAX\u001b[0m: %TDI-E-SYNTAX, Bad punctuation or misspelled word or number"
     ]
    }
   ],
   "source": [
    "t0=mds.Tree(\"efit_east\",55555,mode=\"READONLY\" )\n",
    "t1=mds.Tree(\"pcs_east\",55555,mode=\"READONLY\" )\n",
    "mds.tdi(\"treeopen(\\\"pcs_east\\\",55555\")\n",
    "mds.tdi(f\"\\\\pcs_east::pcpf1)\") "
   ]
  },
  {
   "cell_type": "code",
   "execution_count": 50,
   "metadata": {},
   "outputs": [
    {
     "output_type": "execute_result",
     "data": {
      "text/plain": [
       "array([-5.49999999, -5.49989999, -5.49899999, ...,  8.19699998,\n",
       "        8.19799998,  8.19899998])"
      ]
     },
     "metadata": {},
     "execution_count": 50
    }
   ],
   "source": [
    "fg=plt.figure()\n",
    "\n",
    "for idx in [1,2,3,4,5,6,7,8,7,8,11,12,13,14]:\n",
    "    plt.plot(mds.tdi(f\"DIM_OF(\\\\pcs_east::pcpf{idx})\"),mds.tdi(f\"DATA(\\\\pcs_east::pcpf{idx})\"))\n",
    "\n",
    "plt.plot()\n",
    "plt.show()"
   ]
  },
  {
   "cell_type": "code",
   "execution_count": 8,
   "metadata": {},
   "outputs": [
    {
     "output_type": "stream",
     "name": "stdout",
     "text": [
      "Help on function TdiExecute in module MDSplus.mdsdata:\n\nTdiExecute(expression, *args, **kwargs)\n    Compile and evaluate a TDI expression. Format: TdiExecute('expression-string')\n\n"
     ]
    }
   ],
   "source": [
    "help(mds.tdi)"
   ]
  },
  {
   "cell_type": "code",
   "execution_count": null,
   "metadata": {},
   "outputs": [],
   "source": []
  }
 ]
}